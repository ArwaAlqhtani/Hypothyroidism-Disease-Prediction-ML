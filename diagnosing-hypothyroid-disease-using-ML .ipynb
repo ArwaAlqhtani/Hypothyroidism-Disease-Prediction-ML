{
 "cells": [
  {
   "cell_type": "markdown",
   "metadata": {},
   "source": [
    "# Diagnosing Hypothyroid disease using Machine learning \n",
    "\n",
    "Hypothyroidism, also called underactive thyroid disease, is a common disorder. With hypothyroidism, your thyroid gland does not make enough thyroid hormone.\n",
    "The thyroid gland is located in the front lower part of your neck. Hormones released by the gland travel through your bloodstream and affect nearly every part of your body, from your heart and brain, to your muscles and skin. Applying machine learning algorithms can help assist healthcare workers in identifying signs and symptoms based on patterns shown in past cases of patients data.\n",
    "\n",
    "In this notebooks, we will be learning the code and workflow for diagnosing whether or not a person is suffering from Hypothyroid disease based on various metrics."
   ]
  },
  {
   "cell_type": "markdown",
   "metadata": {
    "_cell_guid": "b1076dfc-b9ad-4769-8c92-a6c4dae69d19",
    "_uuid": "8f2839f25d086af736a60e9eeb907d3b93b6e0e5"
   },
   "source": [
    "## Importing libraries\n",
    "\n",
    "1-importing the necessary libraries in Python."
   ]
  },
  {
   "cell_type": "code",
   "execution_count": 74,
   "metadata": {
    "_cell_guid": "79c7e3d0-c299-4dcb-8224-4455121ee9b0",
    "_uuid": "d629ff2d2480ee46fbb7e2d37f6b5fab8052498a"
   },
   "outputs": [],
   "source": [
    "import numpy as np # linear algebra\n",
    "import pandas as pd # data processing, CSV file I/O (e.g. pd.read_csv)\n",
    "import pickle # For saving models\n",
    "import matplotlib.pyplot as plt # For plotting figures\n",
    "from sklearn.metrics import confusion_matrix, f1_score, precision_score, recall_score\n",
    "\n",
    "# For building our model\n",
    "import keras\n",
    "from keras.models import Sequential\n",
    "from keras.layers import Dense"
   ]
  },
  {
   "cell_type": "markdown",
   "metadata": {},
   "source": [
    "## Exploring the Data\n",
    "\n",
    "- We are dowonloading the hypothyroid data for training our model using pandas library\n",
    "- The dataset contains the values of various hormone levels in various patients, as well as our target variable, whether the patient was hypothyroid or not.\n"
   ]
  },
  {
   "cell_type": "code",
   "execution_count": 75,
   "metadata": {},
   "outputs": [
    {
     "data": {
      "text/html": [
       "<div>\n",
       "<style scoped>\n",
       "    .dataframe tbody tr th:only-of-type {\n",
       "        vertical-align: middle;\n",
       "    }\n",
       "\n",
       "    .dataframe tbody tr th {\n",
       "        vertical-align: top;\n",
       "    }\n",
       "\n",
       "    .dataframe thead th {\n",
       "        text-align: right;\n",
       "    }\n",
       "</style>\n",
       "<table border=\"1\" class=\"dataframe\">\n",
       "  <thead>\n",
       "    <tr style=\"text-align: right;\">\n",
       "      <th></th>\n",
       "      <th>Unnamed: 0</th>\n",
       "      <th>Age</th>\n",
       "      <th>Sex</th>\n",
       "      <th>on_thyroxine</th>\n",
       "      <th>query_on_thyroxine</th>\n",
       "      <th>on_antithyroid_medication</th>\n",
       "      <th>thyroid_surgery</th>\n",
       "      <th>query_hypothyroid</th>\n",
       "      <th>query_hyperthyroid</th>\n",
       "      <th>pregnant</th>\n",
       "      <th>...</th>\n",
       "      <th>T3_measured</th>\n",
       "      <th>T3</th>\n",
       "      <th>TT4_measured</th>\n",
       "      <th>TT4</th>\n",
       "      <th>T4U_measured</th>\n",
       "      <th>T4U</th>\n",
       "      <th>FTI_measured</th>\n",
       "      <th>FTI</th>\n",
       "      <th>TBG_measured</th>\n",
       "      <th>TBG</th>\n",
       "    </tr>\n",
       "  </thead>\n",
       "  <tbody>\n",
       "    <tr>\n",
       "      <th>0</th>\n",
       "      <td>hypothyroid</td>\n",
       "      <td>72</td>\n",
       "      <td>M</td>\n",
       "      <td>f</td>\n",
       "      <td>f</td>\n",
       "      <td>f</td>\n",
       "      <td>f</td>\n",
       "      <td>f</td>\n",
       "      <td>f</td>\n",
       "      <td>f</td>\n",
       "      <td>...</td>\n",
       "      <td>y</td>\n",
       "      <td>0.6</td>\n",
       "      <td>y</td>\n",
       "      <td>15</td>\n",
       "      <td>y</td>\n",
       "      <td>1.48</td>\n",
       "      <td>y</td>\n",
       "      <td>10</td>\n",
       "      <td>n</td>\n",
       "      <td>?</td>\n",
       "    </tr>\n",
       "    <tr>\n",
       "      <th>1</th>\n",
       "      <td>hypothyroid</td>\n",
       "      <td>15</td>\n",
       "      <td>F</td>\n",
       "      <td>t</td>\n",
       "      <td>f</td>\n",
       "      <td>f</td>\n",
       "      <td>f</td>\n",
       "      <td>f</td>\n",
       "      <td>f</td>\n",
       "      <td>f</td>\n",
       "      <td>...</td>\n",
       "      <td>y</td>\n",
       "      <td>1.7</td>\n",
       "      <td>y</td>\n",
       "      <td>19</td>\n",
       "      <td>y</td>\n",
       "      <td>1.13</td>\n",
       "      <td>y</td>\n",
       "      <td>17</td>\n",
       "      <td>n</td>\n",
       "      <td>?</td>\n",
       "    </tr>\n",
       "    <tr>\n",
       "      <th>2</th>\n",
       "      <td>hypothyroid</td>\n",
       "      <td>24</td>\n",
       "      <td>M</td>\n",
       "      <td>f</td>\n",
       "      <td>f</td>\n",
       "      <td>f</td>\n",
       "      <td>f</td>\n",
       "      <td>f</td>\n",
       "      <td>f</td>\n",
       "      <td>f</td>\n",
       "      <td>...</td>\n",
       "      <td>y</td>\n",
       "      <td>0.2</td>\n",
       "      <td>y</td>\n",
       "      <td>4</td>\n",
       "      <td>y</td>\n",
       "      <td>1</td>\n",
       "      <td>y</td>\n",
       "      <td>0</td>\n",
       "      <td>n</td>\n",
       "      <td>?</td>\n",
       "    </tr>\n",
       "    <tr>\n",
       "      <th>3</th>\n",
       "      <td>hypothyroid</td>\n",
       "      <td>24</td>\n",
       "      <td>F</td>\n",
       "      <td>f</td>\n",
       "      <td>f</td>\n",
       "      <td>f</td>\n",
       "      <td>f</td>\n",
       "      <td>f</td>\n",
       "      <td>f</td>\n",
       "      <td>f</td>\n",
       "      <td>...</td>\n",
       "      <td>y</td>\n",
       "      <td>0.4</td>\n",
       "      <td>y</td>\n",
       "      <td>6</td>\n",
       "      <td>y</td>\n",
       "      <td>1.04</td>\n",
       "      <td>y</td>\n",
       "      <td>6</td>\n",
       "      <td>n</td>\n",
       "      <td>?</td>\n",
       "    </tr>\n",
       "    <tr>\n",
       "      <th>4</th>\n",
       "      <td>hypothyroid</td>\n",
       "      <td>77</td>\n",
       "      <td>M</td>\n",
       "      <td>f</td>\n",
       "      <td>f</td>\n",
       "      <td>f</td>\n",
       "      <td>f</td>\n",
       "      <td>f</td>\n",
       "      <td>f</td>\n",
       "      <td>f</td>\n",
       "      <td>...</td>\n",
       "      <td>y</td>\n",
       "      <td>1.2</td>\n",
       "      <td>y</td>\n",
       "      <td>57</td>\n",
       "      <td>y</td>\n",
       "      <td>1.28</td>\n",
       "      <td>y</td>\n",
       "      <td>44</td>\n",
       "      <td>n</td>\n",
       "      <td>?</td>\n",
       "    </tr>\n",
       "  </tbody>\n",
       "</table>\n",
       "<p>5 rows × 26 columns</p>\n",
       "</div>"
      ],
      "text/plain": [
       "    Unnamed: 0 Age Sex on_thyroxine query_on_thyroxine  \\\n",
       "0  hypothyroid  72   M            f                  f   \n",
       "1  hypothyroid  15   F            t                  f   \n",
       "2  hypothyroid  24   M            f                  f   \n",
       "3  hypothyroid  24   F            f                  f   \n",
       "4  hypothyroid  77   M            f                  f   \n",
       "\n",
       "  on_antithyroid_medication thyroid_surgery query_hypothyroid  \\\n",
       "0                         f               f                 f   \n",
       "1                         f               f                 f   \n",
       "2                         f               f                 f   \n",
       "3                         f               f                 f   \n",
       "4                         f               f                 f   \n",
       "\n",
       "  query_hyperthyroid pregnant  ... T3_measured   T3 TT4_measured TT4  \\\n",
       "0                  f        f  ...           y  0.6            y  15   \n",
       "1                  f        f  ...           y  1.7            y  19   \n",
       "2                  f        f  ...           y  0.2            y   4   \n",
       "3                  f        f  ...           y  0.4            y   6   \n",
       "4                  f        f  ...           y  1.2            y  57   \n",
       "\n",
       "  T4U_measured   T4U FTI_measured FTI TBG_measured TBG  \n",
       "0            y  1.48            y  10            n   ?  \n",
       "1            y  1.13            y  17            n   ?  \n",
       "2            y     1            y   0            n   ?  \n",
       "3            y  1.04            y   6            n   ?  \n",
       "4            y  1.28            y  44            n   ?  \n",
       "\n",
       "[5 rows x 26 columns]"
      ]
     },
     "execution_count": 75,
     "metadata": {},
     "output_type": "execute_result"
    }
   ],
   "source": [
    "# Load dataset from csv using pandas\n",
    "dataset = pd.read_csv('hypothyroid.csv')\n",
    "dataset.head()"
   ]
  },
  {
   "cell_type": "code",
   "execution_count": 76,
   "metadata": {},
   "outputs": [
    {
     "data": {
      "text/plain": [
       "Index(['Unnamed: 0', 'Age', 'Sex', 'on_thyroxine', 'query_on_thyroxine',\n",
       "       'on_antithyroid_medication', 'thyroid_surgery', 'query_hypothyroid',\n",
       "       'query_hyperthyroid', 'pregnant', 'sick', 'tumor', 'lithium', 'goitre',\n",
       "       'TSH_measured', 'TSH', 'T3_measured', 'T3', 'TT4_measured', 'TT4',\n",
       "       'T4U_measured', 'T4U', 'FTI_measured', 'FTI', 'TBG_measured', 'TBG'],\n",
       "      dtype='object')"
      ]
     },
     "execution_count": 76,
     "metadata": {},
     "output_type": "execute_result"
    }
   ],
   "source": [
    "dataset.columns"
   ]
  },
  {
   "cell_type": "markdown",
   "metadata": {},
   "source": [
    "The dataset contains several columns related to the patient such as \n",
    "-age\n",
    "-gender\n",
    "-if the person was on any kind of medication or not\n",
    "-measure of different hormones such like T3, T4, FTI\n",
    "-pregnant\n",
    "-thyroid surgery\n",
    "and many other features .. "
   ]
  },
  {
   "cell_type": "markdown",
   "metadata": {},
   "source": [
    "## Data Cleaning\n",
    "\n",
    "after dowonload the dataset, we should clean and pre-processing data to prevent faults in our result"
   ]
  },
  {
   "cell_type": "code",
   "execution_count": 77,
   "metadata": {},
   "outputs": [],
   "source": [
    "# change the first column name to \"target\"\n",
    "dataset = dataset.rename(columns = {dataset.columns[0]:\"target\"})"
   ]
  },
  {
   "cell_type": "code",
   "execution_count": 78,
   "metadata": {},
   "outputs": [
    {
     "data": {
      "text/plain": [
       "negative       3012\n",
       "hypothyroid     151\n",
       "Name: target, dtype: int64"
      ]
     },
     "execution_count": 78,
     "metadata": {},
     "output_type": "execute_result"
    }
   ],
   "source": [
    "# look at the count of data in target\n",
    "dataset[\"target\"].value_counts()"
   ]
  },
  {
   "cell_type": "markdown",
   "metadata": {},
   "source": [
    "\n",
    "hypothyroid = patient was diagnosed with hypothyroidism   ,  \n",
    "nagative = hypothyroidism was not diagnosed\n",
    "\n",
    "and the target value looks imbalanced , and this is a problem in machine learning "
   ]
  },
  {
   "cell_type": "code",
   "execution_count": 79,
   "metadata": {},
   "outputs": [],
   "source": [
    "# convert target values to 0 for negative and 1 for hypothyroid\n",
    "dataset[\"target\"] = dataset[\"target\"].map({\"negative\":0,\"hypothyroid\":1})"
   ]
  },
  {
   "cell_type": "markdown",
   "metadata": {},
   "source": [
    "we will count values in each columns "
   ]
  },
  {
   "cell_type": "code",
   "execution_count": 80,
   "metadata": {},
   "outputs": [
    {
     "name": "stdout",
     "output_type": "stream",
     "text": [
      "Unique categories in the column 'pregnant' ['f' 't']\n",
      "Count of categories in the column 'pregnant' \n",
      " f    3100\n",
      "t      63\n",
      "Name: pregnant, dtype: int64\n"
     ]
    }
   ],
   "source": [
    "print(\"Unique categories in the column 'pregnant'\", dataset['pregnant'].unique())\n",
    "print(\"Count of categories in the column 'pregnant' \\n\", dataset[\"pregnant\"].value_counts())"
   ]
  },
  {
   "cell_type": "code",
   "execution_count": 81,
   "metadata": {},
   "outputs": [
    {
     "name": "stdout",
     "output_type": "stream",
     "text": [
      "Unique categories in the column 'T3 measured' ['y' 'n']\n",
      "Count of categories in the column 'T3 measured' \n",
      " y    2468\n",
      "n     695\n",
      "Name: T3_measured, dtype: int64\n"
     ]
    }
   ],
   "source": [
    "print(\"Unique categories in the column 'T3 measured'\", dataset['T3_measured'].unique())\n",
    "print(\"Count of categories in the column 'T3 measured' \\n\", dataset[\"T3_measured\"].value_counts())"
   ]
  },
  {
   "cell_type": "code",
   "execution_count": 82,
   "metadata": {},
   "outputs": [
    {
     "name": "stdout",
     "output_type": "stream",
     "text": [
      "Unique categories in the column 'Sex' ['M' 'F' '?']\n",
      "Count of categories in the column 'Sex' \n",
      " F    2182\n",
      "M     908\n",
      "?      73\n",
      "Name: Sex, dtype: int64\n"
     ]
    }
   ],
   "source": [
    "print(\"Unique categories in the column 'Sex'\", dataset['Sex'].unique())\n",
    "print(\"Count of categories in the column 'Sex' \\n\", dataset[\"Sex\"].value_counts())"
   ]
  },
  {
   "cell_type": "markdown",
   "metadata": {},
   "source": [
    "then convert some columns in the dataset to binary data"
   ]
  },
  {
   "cell_type": "code",
   "execution_count": 83,
   "metadata": {},
   "outputs": [],
   "source": [
    "# changing the categorical values into binary values\n",
    "dataset = dataset.replace({'f':0,'t':1, 'y':1, 'n':0, 'M':0, 'F':1})"
   ]
  },
  {
   "cell_type": "code",
   "execution_count": 84,
   "metadata": {},
   "outputs": [
    {
     "data": {
      "text/html": [
       "<div>\n",
       "<style scoped>\n",
       "    .dataframe tbody tr th:only-of-type {\n",
       "        vertical-align: middle;\n",
       "    }\n",
       "\n",
       "    .dataframe tbody tr th {\n",
       "        vertical-align: top;\n",
       "    }\n",
       "\n",
       "    .dataframe thead th {\n",
       "        text-align: right;\n",
       "    }\n",
       "</style>\n",
       "<table border=\"1\" class=\"dataframe\">\n",
       "  <thead>\n",
       "    <tr style=\"text-align: right;\">\n",
       "      <th></th>\n",
       "      <th>target</th>\n",
       "      <th>Age</th>\n",
       "      <th>Sex</th>\n",
       "      <th>on_thyroxine</th>\n",
       "      <th>query_on_thyroxine</th>\n",
       "      <th>on_antithyroid_medication</th>\n",
       "      <th>thyroid_surgery</th>\n",
       "      <th>query_hypothyroid</th>\n",
       "      <th>query_hyperthyroid</th>\n",
       "      <th>pregnant</th>\n",
       "      <th>...</th>\n",
       "      <th>T3_measured</th>\n",
       "      <th>T3</th>\n",
       "      <th>TT4_measured</th>\n",
       "      <th>TT4</th>\n",
       "      <th>T4U_measured</th>\n",
       "      <th>T4U</th>\n",
       "      <th>FTI_measured</th>\n",
       "      <th>FTI</th>\n",
       "      <th>TBG_measured</th>\n",
       "      <th>TBG</th>\n",
       "    </tr>\n",
       "  </thead>\n",
       "  <tbody>\n",
       "    <tr>\n",
       "      <th>0</th>\n",
       "      <td>1</td>\n",
       "      <td>72</td>\n",
       "      <td>0</td>\n",
       "      <td>0</td>\n",
       "      <td>0</td>\n",
       "      <td>0</td>\n",
       "      <td>0</td>\n",
       "      <td>0</td>\n",
       "      <td>0</td>\n",
       "      <td>0</td>\n",
       "      <td>...</td>\n",
       "      <td>1</td>\n",
       "      <td>0.6</td>\n",
       "      <td>1</td>\n",
       "      <td>15</td>\n",
       "      <td>1</td>\n",
       "      <td>1.48</td>\n",
       "      <td>1</td>\n",
       "      <td>10</td>\n",
       "      <td>0</td>\n",
       "      <td>?</td>\n",
       "    </tr>\n",
       "    <tr>\n",
       "      <th>1</th>\n",
       "      <td>1</td>\n",
       "      <td>15</td>\n",
       "      <td>1</td>\n",
       "      <td>1</td>\n",
       "      <td>0</td>\n",
       "      <td>0</td>\n",
       "      <td>0</td>\n",
       "      <td>0</td>\n",
       "      <td>0</td>\n",
       "      <td>0</td>\n",
       "      <td>...</td>\n",
       "      <td>1</td>\n",
       "      <td>1.7</td>\n",
       "      <td>1</td>\n",
       "      <td>19</td>\n",
       "      <td>1</td>\n",
       "      <td>1.13</td>\n",
       "      <td>1</td>\n",
       "      <td>17</td>\n",
       "      <td>0</td>\n",
       "      <td>?</td>\n",
       "    </tr>\n",
       "    <tr>\n",
       "      <th>2</th>\n",
       "      <td>1</td>\n",
       "      <td>24</td>\n",
       "      <td>0</td>\n",
       "      <td>0</td>\n",
       "      <td>0</td>\n",
       "      <td>0</td>\n",
       "      <td>0</td>\n",
       "      <td>0</td>\n",
       "      <td>0</td>\n",
       "      <td>0</td>\n",
       "      <td>...</td>\n",
       "      <td>1</td>\n",
       "      <td>0.2</td>\n",
       "      <td>1</td>\n",
       "      <td>4</td>\n",
       "      <td>1</td>\n",
       "      <td>1</td>\n",
       "      <td>1</td>\n",
       "      <td>0</td>\n",
       "      <td>0</td>\n",
       "      <td>?</td>\n",
       "    </tr>\n",
       "    <tr>\n",
       "      <th>3</th>\n",
       "      <td>1</td>\n",
       "      <td>24</td>\n",
       "      <td>1</td>\n",
       "      <td>0</td>\n",
       "      <td>0</td>\n",
       "      <td>0</td>\n",
       "      <td>0</td>\n",
       "      <td>0</td>\n",
       "      <td>0</td>\n",
       "      <td>0</td>\n",
       "      <td>...</td>\n",
       "      <td>1</td>\n",
       "      <td>0.4</td>\n",
       "      <td>1</td>\n",
       "      <td>6</td>\n",
       "      <td>1</td>\n",
       "      <td>1.04</td>\n",
       "      <td>1</td>\n",
       "      <td>6</td>\n",
       "      <td>0</td>\n",
       "      <td>?</td>\n",
       "    </tr>\n",
       "    <tr>\n",
       "      <th>4</th>\n",
       "      <td>1</td>\n",
       "      <td>77</td>\n",
       "      <td>0</td>\n",
       "      <td>0</td>\n",
       "      <td>0</td>\n",
       "      <td>0</td>\n",
       "      <td>0</td>\n",
       "      <td>0</td>\n",
       "      <td>0</td>\n",
       "      <td>0</td>\n",
       "      <td>...</td>\n",
       "      <td>1</td>\n",
       "      <td>1.2</td>\n",
       "      <td>1</td>\n",
       "      <td>57</td>\n",
       "      <td>1</td>\n",
       "      <td>1.28</td>\n",
       "      <td>1</td>\n",
       "      <td>44</td>\n",
       "      <td>0</td>\n",
       "      <td>?</td>\n",
       "    </tr>\n",
       "  </tbody>\n",
       "</table>\n",
       "<p>5 rows × 26 columns</p>\n",
       "</div>"
      ],
      "text/plain": [
       "   target Age Sex  on_thyroxine  query_on_thyroxine  \\\n",
       "0       1  72   0             0                   0   \n",
       "1       1  15   1             1                   0   \n",
       "2       1  24   0             0                   0   \n",
       "3       1  24   1             0                   0   \n",
       "4       1  77   0             0                   0   \n",
       "\n",
       "   on_antithyroid_medication  thyroid_surgery  query_hypothyroid  \\\n",
       "0                          0                0                  0   \n",
       "1                          0                0                  0   \n",
       "2                          0                0                  0   \n",
       "3                          0                0                  0   \n",
       "4                          0                0                  0   \n",
       "\n",
       "   query_hyperthyroid  pregnant  ...  T3_measured   T3  TT4_measured  TT4  \\\n",
       "0                   0         0  ...            1  0.6             1   15   \n",
       "1                   0         0  ...            1  1.7             1   19   \n",
       "2                   0         0  ...            1  0.2             1    4   \n",
       "3                   0         0  ...            1  0.4             1    6   \n",
       "4                   0         0  ...            1  1.2             1   57   \n",
       "\n",
       "   T4U_measured   T4U  FTI_measured FTI  TBG_measured TBG  \n",
       "0             1  1.48             1  10             0   ?  \n",
       "1             1  1.13             1  17             0   ?  \n",
       "2             1     1             1   0             0   ?  \n",
       "3             1  1.04             1   6             0   ?  \n",
       "4             1  1.28             1  44             0   ?  \n",
       "\n",
       "[5 rows x 26 columns]"
      ]
     },
     "execution_count": 84,
     "metadata": {},
     "output_type": "execute_result"
    }
   ],
   "source": [
    "# Displaying the head of the dataset\n",
    "dataset.head()"
   ]
  },
  {
   "cell_type": "markdown",
   "metadata": {},
   "source": [
    "as we noticed, some features contain '?' values. So we will be changing them with NaN values to count them"
   ]
  },
  {
   "cell_type": "code",
   "execution_count": 85,
   "metadata": {},
   "outputs": [],
   "source": [
    "# changing ? to \"NAN\"\n",
    "dataset.replace(to_replace='?', inplace=True, value=np.NaN)"
   ]
  },
  {
   "cell_type": "markdown",
   "metadata": {},
   "source": [
    "### Checking if there is any null values"
   ]
  },
  {
   "cell_type": "code",
   "execution_count": 86,
   "metadata": {},
   "outputs": [
    {
     "data": {
      "text/plain": [
       "target                          0\n",
       "Age                           446\n",
       "Sex                            73\n",
       "on_thyroxine                    0\n",
       "query_on_thyroxine              0\n",
       "on_antithyroid_medication       0\n",
       "thyroid_surgery                 0\n",
       "query_hypothyroid               0\n",
       "query_hyperthyroid              0\n",
       "pregnant                        0\n",
       "sick                            0\n",
       "tumor                           0\n",
       "lithium                         0\n",
       "goitre                          0\n",
       "TSH_measured                    0\n",
       "TSH                           468\n",
       "T3_measured                     0\n",
       "T3                            695\n",
       "TT4_measured                    0\n",
       "TT4                           249\n",
       "T4U_measured                    0\n",
       "T4U                           248\n",
       "FTI_measured                    0\n",
       "FTI                           247\n",
       "TBG_measured                    0\n",
       "TBG                          2903\n",
       "dtype: int64"
      ]
     },
     "execution_count": 86,
     "metadata": {},
     "output_type": "execute_result"
    }
   ],
   "source": [
    "# figure up the number of null values\n",
    "dataset.isnull().sum()"
   ]
  },
  {
   "cell_type": "markdown",
   "metadata": {},
   "source": [
    "we can observe that the feature column \"TBG\" contains high number of null values. So, we will drop it from our data set "
   ]
  },
  {
   "cell_type": "code",
   "execution_count": 87,
   "metadata": {},
   "outputs": [],
   "source": [
    "# Dropping the TBG column , beacuse it contains high number of null values\n",
    "dataset.drop('TBG', axis = 1, inplace=True)"
   ]
  },
  {
   "cell_type": "markdown",
   "metadata": {},
   "source": [
    "### Converting columns into numeric values\n",
    "\n",
    "To help us in performing statistical operations on the columns."
   ]
  },
  {
   "cell_type": "code",
   "execution_count": 88,
   "metadata": {},
   "outputs": [],
   "source": [
    "# Selecting columns with data type as 'object'\n",
    "columns = dataset.columns[dataset.dtypes.eq('object')]\n",
    "\n",
    "# Convert to numeric values\n",
    "dataset[columns] = dataset[columns].apply(pd.to_numeric, errors='coerce')"
   ]
  },
  {
   "cell_type": "code",
   "execution_count": 89,
   "metadata": {},
   "outputs": [
    {
     "name": "stdout",
     "output_type": "stream",
     "text": [
      "<class 'pandas.core.frame.DataFrame'>\n",
      "RangeIndex: 3163 entries, 0 to 3162\n",
      "Data columns (total 25 columns):\n",
      " #   Column                     Non-Null Count  Dtype  \n",
      "---  ------                     --------------  -----  \n",
      " 0   target                     3163 non-null   int64  \n",
      " 1   Age                        2717 non-null   float64\n",
      " 2   Sex                        3090 non-null   float64\n",
      " 3   on_thyroxine               3163 non-null   int64  \n",
      " 4   query_on_thyroxine         3163 non-null   int64  \n",
      " 5   on_antithyroid_medication  3163 non-null   int64  \n",
      " 6   thyroid_surgery            3163 non-null   int64  \n",
      " 7   query_hypothyroid          3163 non-null   int64  \n",
      " 8   query_hyperthyroid         3163 non-null   int64  \n",
      " 9   pregnant                   3163 non-null   int64  \n",
      " 10  sick                       3163 non-null   int64  \n",
      " 11  tumor                      3163 non-null   int64  \n",
      " 12  lithium                    3163 non-null   int64  \n",
      " 13  goitre                     3163 non-null   int64  \n",
      " 14  TSH_measured               3163 non-null   int64  \n",
      " 15  TSH                        2695 non-null   float64\n",
      " 16  T3_measured                3163 non-null   int64  \n",
      " 17  T3                         2468 non-null   float64\n",
      " 18  TT4_measured               3163 non-null   int64  \n",
      " 19  TT4                        2914 non-null   float64\n",
      " 20  T4U_measured               3163 non-null   int64  \n",
      " 21  T4U                        2915 non-null   float64\n",
      " 22  FTI_measured               3163 non-null   int64  \n",
      " 23  FTI                        2916 non-null   float64\n",
      " 24  TBG_measured               3163 non-null   int64  \n",
      "dtypes: float64(7), int64(18)\n",
      "memory usage: 617.9 KB\n"
     ]
    }
   ],
   "source": [
    "# Viewing the informations \n",
    "dataset.info()"
   ]
  },
  {
   "cell_type": "markdown",
   "metadata": {},
   "source": [
    "### Visualize the patterns in data\n",
    "\n",
    "now we will visualize the patterns in different features of the data using the `hist()` function"
   ]
  },
  {
   "cell_type": "code",
   "execution_count": 90,
   "metadata": {},
   "outputs": [
    {
     "data": {
      "image/png": "[encoded data removed]",
      "text/plain": [
       "<Figure size 1440x1440 with 25 Axes>"
      ]
     },
     "metadata": {
      "needs_background": "light"
     },
     "output_type": "display_data"
    }
   ],
   "source": [
    "dataset.hist(figsize = (20,20));"
   ]
  },
  {
   "cell_type": "markdown",
   "metadata": {},
   "source": [
    "### Replacing null values in our data\n",
    "\n",
    "- We will impute the null values in our data with their appropriate statistical metric."
   ]
  },
  {
   "cell_type": "code",
   "execution_count": 91,
   "metadata": {},
   "outputs": [
    {
     "data": {
      "text/plain": [
       "['Age', 'Sex', 'TSH', 'T3', 'TT4', 'T4U', 'FTI']"
      ]
     },
     "execution_count": 91,
     "metadata": {},
     "output_type": "execute_result"
    }
   ],
   "source": [
    "# Check the List of columns that containing null values\n",
    "dataset.columns[dataset.isnull().any()].tolist() "
   ]
  },
  {
   "cell_type": "markdown",
   "metadata": {},
   "source": [
    "**Based on the statistics plotted above, we can see that,**\n",
    "\n",
    "- The features \"Age\" and \"T4U\" show a normal distribution, which is why we will be replacing the missing values with mean.\n",
    "- The features \"TSH\", \"T3\", \"TT4\" and \"FTI\" show a skewed distribution, which is why we will be replacing the missing values with median.\n",
    "- The feature \"gender\" is binary and contains an imbalanced data with the values \"1\" much greater then \"0\". So we will be replacing the missing values with \"0\"."
   ]
  },
  {
   "cell_type": "code",
   "execution_count": 92,
   "metadata": {},
   "outputs": [],
   "source": [
    "# Replacing Age and T4U null values by mean \n",
    "dataset['Age'].fillna(dataset['Age'].mean(), inplace = True)\n",
    "dataset['T4U'].fillna(dataset['T4U'].mean(), inplace = True)\n",
    "\n",
    "# Replacing TSH, T3, TT4, FTI null values by median\n",
    "dataset['TSH'].fillna(dataset['TSH'].mean(), inplace = True)\n",
    "dataset['T3'].fillna(dataset['T3'].median(), inplace = True)\n",
    "dataset['TT4'].fillna(dataset['TT4'].median(), inplace = True)\n",
    "dataset['FTI'].fillna(dataset['FTI'].median(), inplace = True)\n",
    "\n",
    "# The gender data looks to be imbalanced with 0 lesser than 1\n",
    "# Replacing null values with 0\n",
    "dataset['Sex'].fillna(0, inplace = True)"
   ]
  },
  {
   "cell_type": "markdown",
   "metadata": {},
   "source": [
    "### Visualize the imputed data again to check if there is any missing value"
   ]
  },
  {
   "cell_type": "code",
   "execution_count": 93,
   "metadata": {},
   "outputs": [
    {
     "data": {
      "image/png": "[encoded data removed]",
      "text/plain": [
       "<Figure size 1440x1440 with 25 Axes>"
      ]
     },
     "metadata": {
      "needs_background": "light"
     },
     "output_type": "display_data"
    }
   ],
   "source": [
    "# Plot the histogram of different features\n",
    "plot_cleaned = dataset.hist(figsize = (20,20))"
   ]
  },
  {
   "cell_type": "markdown",
   "metadata": {},
   "source": [
    "### Checking for null values\n",
    "\n",
    "We will again check the number of null values for each column."
   ]
  },
  {
   "cell_type": "code",
   "execution_count": 94,
   "metadata": {},
   "outputs": [
    {
     "data": {
      "text/plain": [
       "target                       0\n",
       "Age                          0\n",
       "Sex                          0\n",
       "on_thyroxine                 0\n",
       "query_on_thyroxine           0\n",
       "on_antithyroid_medication    0\n",
       "thyroid_surgery              0\n",
       "query_hypothyroid            0\n",
       "query_hyperthyroid           0\n",
       "pregnant                     0\n",
       "sick                         0\n",
       "tumor                        0\n",
       "lithium                      0\n",
       "goitre                       0\n",
       "TSH_measured                 0\n",
       "TSH                          0\n",
       "T3_measured                  0\n",
       "T3                           0\n",
       "TT4_measured                 0\n",
       "TT4                          0\n",
       "T4U_measured                 0\n",
       "T4U                          0\n",
       "FTI_measured                 0\n",
       "FTI                          0\n",
       "TBG_measured                 0\n",
       "dtype: int64"
      ]
     },
     "execution_count": 94,
     "metadata": {},
     "output_type": "execute_result"
    }
   ],
   "source": [
    "# Check for the number of null values\n",
    "dataset.isnull().sum()"
   ]
  },
  {
   "cell_type": "markdown",
   "metadata": {},
   "source": [
    "---\n",
    "## Modeling the data\n",
    "\n",
    "after cleaned and formatted our data. We are now ready to model the data for prediction using neural network, decision tree and ensemble learning methods. We will be using these methods for predicting the **hypothyroidism (target)** based on our **input data (features).** "
   ]
  },
  {
   "cell_type": "markdown",
   "metadata": {},
   "source": [
    "### 1. Defining the features and target variables\n",
    "\n",
    "We will be separating our dataset into features (X) and the target variable (y)."
   ]
  },
  {
   "cell_type": "code",
   "execution_count": 95,
   "metadata": {},
   "outputs": [],
   "source": [
    "# Features (columns)\n",
    "X = dataset.drop('target', axis = 1) # selecting all columns except the target\n",
    "# Target variable\n",
    "y = dataset['target']"
   ]
  },
  {
   "cell_type": "code",
   "execution_count": 96,
   "metadata": {},
   "outputs": [
    {
     "name": "stdout",
     "output_type": "stream",
     "text": [
      "(3163, 24) (3163,)\n"
     ]
    }
   ],
   "source": [
    "print(X.shape, y.shape)"
   ]
  },
  {
   "cell_type": "markdown",
   "metadata": {},
   "source": [
    "### 2. Splitting the data into train (80%) and test (20%) data\n",
    "\n"
   ]
  },
  {
   "cell_type": "code",
   "execution_count": 97,
   "metadata": {},
   "outputs": [],
   "source": [
    "from sklearn.model_selection import train_test_split\n",
    "\n",
    "# Split the data\n",
    "X_train, X_test, y_train, y_test = train_test_split(X, y, test_size=0.2, random_state=42)"
   ]
  },
  {
   "cell_type": "markdown",
   "metadata": {},
   "source": [
    "### 3. Scaling the train and test data \n",
    "\n",
    "\n",
    "So if the data in any conditions has data points far from each other, scaling is a technique to make them closer to each other or in simpler words, we can say that the scaling is used for making data points generalized so that the distance between them will be lower"
   ]
  },
  {
   "cell_type": "code",
   "execution_count": 98,
   "metadata": {},
   "outputs": [],
   "source": [
    "from sklearn.preprocessing import StandardScaler\n",
    "\n",
    "# Initialization of the class\n",
    "scaler = StandardScaler()\n",
    "\n",
    "# Applying the scaler on test and train data\n",
    "X_train = scaler.fit_transform(X_train)\n",
    "X_test = scaler.transform(X_test)"
   ]
  },
  {
   "cell_type": "markdown",
   "metadata": {},
   "source": [
    "### 4. Building the neural network\n",
    "\n",
    "Here, we are defining a neural network containing a sequential model with one hidden layer and one output layer. \n",
    "We have 24 feature columns due to which we have specified the input dimension as input_dim=24. We are using the ReLU activation function in the hidden layer, and sigmoid function for the output layer to return a binary value of output, i.e. hypothyroid (1) or negative (0)."
   ]
  },
  {
   "cell_type": "code",
   "execution_count": 99,
   "metadata": {},
   "outputs": [],
   "source": [
    "# Input\n",
    "model = Sequential()\n",
    "# Hidden layer\n",
    "model.add(Dense(64, kernel_initializer='uniform', input_dim=24, activation='relu'))\n",
    "# Output layer\n",
    "model.add(Dense(1, kernel_initializer='uniform', activation='sigmoid'))"
   ]
  },
  {
   "cell_type": "markdown",
   "metadata": {},
   "source": [
    "**Compiling the model with 'adam' optimizer and loss function as 'binary_crossentropy'.**"
   ]
  },
  {
   "cell_type": "code",
   "execution_count": 100,
   "metadata": {},
   "outputs": [],
   "source": [
    "model.compile(loss='binary_crossentropy', optimizer='adam', metrics=['accuracy'])"
   ]
  },
  {
   "cell_type": "markdown",
   "metadata": {},
   "source": [
    "### 5. Training the model\n",
    "\n",
    "We will now train the model with a validation split of 0.2 for 100 epochs."
   ]
  },
  {
   "cell_type": "code",
   "execution_count": 101,
   "metadata": {},
   "outputs": [
    {
     "name": "stdout",
     "output_type": "stream",
     "text": [
      "Epoch 1/100\n",
      "51/51 - 1s - loss: 0.5962 - accuracy: 0.9412 - val_loss: 0.4680 - val_accuracy: 0.9625\n",
      "Epoch 2/100\n",
      "51/51 - 0s - loss: 0.3287 - accuracy: 0.9580 - val_loss: 0.1946 - val_accuracy: 0.9644\n",
      "Epoch 3/100\n",
      "51/51 - 0s - loss: 0.1488 - accuracy: 0.9654 - val_loss: 0.0991 - val_accuracy: 0.9783\n",
      "Epoch 4/100\n",
      "51/51 - 0s - loss: 0.0935 - accuracy: 0.9713 - val_loss: 0.0714 - val_accuracy: 0.9842\n",
      "Epoch 5/100\n",
      "51/51 - 0s - loss: 0.0723 - accuracy: 0.9763 - val_loss: 0.0597 - val_accuracy: 0.9822\n",
      "Epoch 6/100\n",
      "51/51 - 0s - loss: 0.0622 - accuracy: 0.9797 - val_loss: 0.0533 - val_accuracy: 0.9842\n",
      "Epoch 7/100\n",
      "51/51 - 0s - loss: 0.0576 - accuracy: 0.9788 - val_loss: 0.0503 - val_accuracy: 0.9822\n",
      "Epoch 8/100\n",
      "51/51 - 0s - loss: 0.0535 - accuracy: 0.9817 - val_loss: 0.0473 - val_accuracy: 0.9822\n",
      "Epoch 9/100\n",
      "51/51 - 0s - loss: 0.0507 - accuracy: 0.9822 - val_loss: 0.0449 - val_accuracy: 0.9822\n",
      "Epoch 10/100\n",
      "51/51 - 0s - loss: 0.0484 - accuracy: 0.9807 - val_loss: 0.0440 - val_accuracy: 0.9802\n",
      "Epoch 11/100\n",
      "51/51 - 0s - loss: 0.0469 - accuracy: 0.9822 - val_loss: 0.0421 - val_accuracy: 0.9802\n",
      "Epoch 12/100\n",
      "51/51 - 0s - loss: 0.0458 - accuracy: 0.9832 - val_loss: 0.0420 - val_accuracy: 0.9802\n",
      "Epoch 13/100\n",
      "51/51 - 0s - loss: 0.0441 - accuracy: 0.9832 - val_loss: 0.0413 - val_accuracy: 0.9842\n",
      "Epoch 14/100\n",
      "51/51 - 0s - loss: 0.0432 - accuracy: 0.9832 - val_loss: 0.0408 - val_accuracy: 0.9842\n",
      "Epoch 15/100\n",
      "51/51 - 0s - loss: 0.0421 - accuracy: 0.9842 - val_loss: 0.0400 - val_accuracy: 0.9842\n",
      "Epoch 16/100\n",
      "51/51 - 0s - loss: 0.0413 - accuracy: 0.9852 - val_loss: 0.0396 - val_accuracy: 0.9842\n",
      "Epoch 17/100\n",
      "51/51 - 0s - loss: 0.0407 - accuracy: 0.9872 - val_loss: 0.0386 - val_accuracy: 0.9842\n",
      "Epoch 18/100\n",
      "51/51 - 0s - loss: 0.0395 - accuracy: 0.9867 - val_loss: 0.0388 - val_accuracy: 0.9862\n",
      "Epoch 19/100\n",
      "51/51 - 0s - loss: 0.0390 - accuracy: 0.9867 - val_loss: 0.0384 - val_accuracy: 0.9862\n",
      "Epoch 20/100\n",
      "51/51 - 0s - loss: 0.0381 - accuracy: 0.9876 - val_loss: 0.0373 - val_accuracy: 0.9862\n",
      "Epoch 21/100\n",
      "51/51 - 0s - loss: 0.0375 - accuracy: 0.9876 - val_loss: 0.0377 - val_accuracy: 0.9862\n",
      "Epoch 22/100\n",
      "51/51 - 0s - loss: 0.0372 - accuracy: 0.9872 - val_loss: 0.0372 - val_accuracy: 0.9862\n",
      "Epoch 23/100\n",
      "51/51 - 0s - loss: 0.0369 - accuracy: 0.9876 - val_loss: 0.0376 - val_accuracy: 0.9842\n",
      "Epoch 24/100\n",
      "51/51 - 0s - loss: 0.0361 - accuracy: 0.9886 - val_loss: 0.0370 - val_accuracy: 0.9862\n",
      "Epoch 25/100\n",
      "51/51 - 0s - loss: 0.0356 - accuracy: 0.9886 - val_loss: 0.0364 - val_accuracy: 0.9862\n",
      "Epoch 26/100\n",
      "51/51 - 0s - loss: 0.0354 - accuracy: 0.9876 - val_loss: 0.0361 - val_accuracy: 0.9862\n",
      "Epoch 27/100\n",
      "51/51 - 0s - loss: 0.0350 - accuracy: 0.9876 - val_loss: 0.0364 - val_accuracy: 0.9862\n",
      "Epoch 28/100\n",
      "51/51 - 0s - loss: 0.0344 - accuracy: 0.9891 - val_loss: 0.0358 - val_accuracy: 0.9862\n",
      "Epoch 29/100\n",
      "51/51 - 0s - loss: 0.0338 - accuracy: 0.9891 - val_loss: 0.0357 - val_accuracy: 0.9862\n",
      "Epoch 30/100\n",
      "51/51 - 0s - loss: 0.0335 - accuracy: 0.9881 - val_loss: 0.0374 - val_accuracy: 0.9842\n",
      "Epoch 31/100\n",
      "51/51 - 0s - loss: 0.0333 - accuracy: 0.9891 - val_loss: 0.0366 - val_accuracy: 0.9842\n",
      "Epoch 32/100\n",
      "51/51 - 0s - loss: 0.0328 - accuracy: 0.9891 - val_loss: 0.0362 - val_accuracy: 0.9862\n",
      "Epoch 33/100\n",
      "51/51 - 0s - loss: 0.0323 - accuracy: 0.9901 - val_loss: 0.0367 - val_accuracy: 0.9842\n",
      "Epoch 34/100\n",
      "51/51 - 0s - loss: 0.0320 - accuracy: 0.9896 - val_loss: 0.0361 - val_accuracy: 0.9862\n",
      "Epoch 35/100\n",
      "51/51 - 0s - loss: 0.0320 - accuracy: 0.9886 - val_loss: 0.0358 - val_accuracy: 0.9862\n",
      "Epoch 36/100\n",
      "51/51 - 0s - loss: 0.0314 - accuracy: 0.9901 - val_loss: 0.0359 - val_accuracy: 0.9862\n",
      "Epoch 37/100\n",
      "51/51 - 0s - loss: 0.0312 - accuracy: 0.9901 - val_loss: 0.0356 - val_accuracy: 0.9842\n",
      "Epoch 38/100\n",
      "51/51 - 0s - loss: 0.0309 - accuracy: 0.9896 - val_loss: 0.0368 - val_accuracy: 0.9862\n",
      "Epoch 39/100\n",
      "51/51 - 0s - loss: 0.0304 - accuracy: 0.9896 - val_loss: 0.0371 - val_accuracy: 0.9862\n",
      "Epoch 40/100\n",
      "51/51 - 0s - loss: 0.0303 - accuracy: 0.9896 - val_loss: 0.0366 - val_accuracy: 0.9862\n",
      "Epoch 41/100\n",
      "51/51 - 0s - loss: 0.0299 - accuracy: 0.9891 - val_loss: 0.0364 - val_accuracy: 0.9881\n",
      "Epoch 42/100\n",
      "51/51 - 0s - loss: 0.0296 - accuracy: 0.9926 - val_loss: 0.0366 - val_accuracy: 0.9881\n",
      "Epoch 43/100\n",
      "51/51 - 0s - loss: 0.0295 - accuracy: 0.9911 - val_loss: 0.0358 - val_accuracy: 0.9862\n",
      "Epoch 44/100\n",
      "51/51 - 0s - loss: 0.0295 - accuracy: 0.9901 - val_loss: 0.0373 - val_accuracy: 0.9822\n",
      "Epoch 45/100\n",
      "51/51 - 0s - loss: 0.0290 - accuracy: 0.9916 - val_loss: 0.0356 - val_accuracy: 0.9862\n",
      "Epoch 46/100\n",
      "51/51 - 0s - loss: 0.0286 - accuracy: 0.9901 - val_loss: 0.0374 - val_accuracy: 0.9822\n",
      "Epoch 47/100\n",
      "51/51 - 0s - loss: 0.0287 - accuracy: 0.9921 - val_loss: 0.0363 - val_accuracy: 0.9881\n",
      "Epoch 48/100\n",
      "51/51 - 0s - loss: 0.0283 - accuracy: 0.9901 - val_loss: 0.0367 - val_accuracy: 0.9881\n",
      "Epoch 49/100\n",
      "51/51 - 0s - loss: 0.0282 - accuracy: 0.9921 - val_loss: 0.0354 - val_accuracy: 0.9862\n",
      "Epoch 50/100\n",
      "51/51 - 0s - loss: 0.0282 - accuracy: 0.9906 - val_loss: 0.0366 - val_accuracy: 0.9862\n",
      "Epoch 51/100\n",
      "51/51 - 0s - loss: 0.0280 - accuracy: 0.9926 - val_loss: 0.0358 - val_accuracy: 0.9881\n",
      "Epoch 52/100\n",
      "51/51 - 0s - loss: 0.0276 - accuracy: 0.9916 - val_loss: 0.0365 - val_accuracy: 0.9881\n",
      "Epoch 53/100\n",
      "51/51 - 0s - loss: 0.0273 - accuracy: 0.9926 - val_loss: 0.0372 - val_accuracy: 0.9842\n",
      "Epoch 54/100\n",
      "51/51 - 0s - loss: 0.0274 - accuracy: 0.9901 - val_loss: 0.0372 - val_accuracy: 0.9842\n",
      "Epoch 55/100\n",
      "51/51 - 0s - loss: 0.0270 - accuracy: 0.9921 - val_loss: 0.0372 - val_accuracy: 0.9842\n",
      "Epoch 56/100\n",
      "51/51 - 0s - loss: 0.0270 - accuracy: 0.9911 - val_loss: 0.0378 - val_accuracy: 0.9842\n",
      "Epoch 57/100\n",
      "51/51 - 0s - loss: 0.0268 - accuracy: 0.9921 - val_loss: 0.0366 - val_accuracy: 0.9881\n",
      "Epoch 58/100\n",
      "51/51 - 0s - loss: 0.0265 - accuracy: 0.9926 - val_loss: 0.0360 - val_accuracy: 0.9881\n",
      "Epoch 59/100\n",
      "51/51 - 0s - loss: 0.0266 - accuracy: 0.9921 - val_loss: 0.0372 - val_accuracy: 0.9862\n",
      "Epoch 60/100\n",
      "51/51 - 0s - loss: 0.0263 - accuracy: 0.9931 - val_loss: 0.0379 - val_accuracy: 0.9862\n",
      "Epoch 61/100\n",
      "51/51 - 0s - loss: 0.0260 - accuracy: 0.9921 - val_loss: 0.0370 - val_accuracy: 0.9881\n",
      "Epoch 62/100\n",
      "51/51 - 0s - loss: 0.0256 - accuracy: 0.9931 - val_loss: 0.0372 - val_accuracy: 0.9881\n",
      "Epoch 63/100\n",
      "51/51 - 0s - loss: 0.0257 - accuracy: 0.9926 - val_loss: 0.0373 - val_accuracy: 0.9881\n",
      "Epoch 64/100\n",
      "51/51 - 0s - loss: 0.0255 - accuracy: 0.9931 - val_loss: 0.0366 - val_accuracy: 0.9881\n",
      "Epoch 65/100\n",
      "51/51 - 0s - loss: 0.0254 - accuracy: 0.9926 - val_loss: 0.0372 - val_accuracy: 0.9881\n",
      "Epoch 66/100\n",
      "51/51 - 0s - loss: 0.0255 - accuracy: 0.9921 - val_loss: 0.0378 - val_accuracy: 0.9862\n",
      "Epoch 67/100\n",
      "51/51 - 0s - loss: 0.0252 - accuracy: 0.9926 - val_loss: 0.0383 - val_accuracy: 0.9862\n",
      "Epoch 68/100\n",
      "51/51 - 0s - loss: 0.0249 - accuracy: 0.9931 - val_loss: 0.0374 - val_accuracy: 0.9862\n",
      "Epoch 69/100\n",
      "51/51 - 0s - loss: 0.0249 - accuracy: 0.9931 - val_loss: 0.0367 - val_accuracy: 0.9862\n",
      "Epoch 70/100\n",
      "51/51 - 0s - loss: 0.0249 - accuracy: 0.9931 - val_loss: 0.0376 - val_accuracy: 0.9862\n",
      "Epoch 71/100\n",
      "51/51 - 0s - loss: 0.0245 - accuracy: 0.9931 - val_loss: 0.0376 - val_accuracy: 0.9881\n",
      "Epoch 72/100\n",
      "51/51 - 0s - loss: 0.0243 - accuracy: 0.9936 - val_loss: 0.0374 - val_accuracy: 0.9901\n",
      "Epoch 73/100\n",
      "51/51 - 0s - loss: 0.0244 - accuracy: 0.9931 - val_loss: 0.0379 - val_accuracy: 0.9881\n",
      "Epoch 74/100\n",
      "51/51 - 0s - loss: 0.0243 - accuracy: 0.9941 - val_loss: 0.0369 - val_accuracy: 0.9862\n",
      "Epoch 75/100\n",
      "51/51 - 0s - loss: 0.0242 - accuracy: 0.9926 - val_loss: 0.0372 - val_accuracy: 0.9881\n",
      "Epoch 76/100\n",
      "51/51 - 0s - loss: 0.0242 - accuracy: 0.9936 - val_loss: 0.0381 - val_accuracy: 0.9842\n",
      "Epoch 77/100\n",
      "51/51 - 0s - loss: 0.0241 - accuracy: 0.9936 - val_loss: 0.0375 - val_accuracy: 0.9881\n",
      "Epoch 78/100\n",
      "51/51 - 0s - loss: 0.0238 - accuracy: 0.9941 - val_loss: 0.0380 - val_accuracy: 0.9881\n",
      "Epoch 79/100\n",
      "51/51 - 0s - loss: 0.0235 - accuracy: 0.9941 - val_loss: 0.0381 - val_accuracy: 0.9862\n",
      "Epoch 80/100\n",
      "51/51 - 0s - loss: 0.0233 - accuracy: 0.9936 - val_loss: 0.0385 - val_accuracy: 0.9862\n",
      "Epoch 81/100\n",
      "51/51 - 0s - loss: 0.0234 - accuracy: 0.9936 - val_loss: 0.0383 - val_accuracy: 0.9862\n",
      "Epoch 82/100\n",
      "51/51 - 0s - loss: 0.0233 - accuracy: 0.9936 - val_loss: 0.0385 - val_accuracy: 0.9862\n",
      "Epoch 83/100\n",
      "51/51 - 0s - loss: 0.0235 - accuracy: 0.9921 - val_loss: 0.0383 - val_accuracy: 0.9862\n",
      "Epoch 84/100\n",
      "51/51 - 0s - loss: 0.0231 - accuracy: 0.9941 - val_loss: 0.0375 - val_accuracy: 0.9862\n",
      "Epoch 85/100\n",
      "51/51 - 0s - loss: 0.0226 - accuracy: 0.9941 - val_loss: 0.0385 - val_accuracy: 0.9862\n",
      "Epoch 86/100\n",
      "51/51 - 0s - loss: 0.0226 - accuracy: 0.9941 - val_loss: 0.0381 - val_accuracy: 0.9862\n",
      "Epoch 87/100\n",
      "51/51 - 0s - loss: 0.0226 - accuracy: 0.9941 - val_loss: 0.0389 - val_accuracy: 0.9842\n",
      "Epoch 88/100\n",
      "51/51 - 0s - loss: 0.0225 - accuracy: 0.9946 - val_loss: 0.0382 - val_accuracy: 0.9881\n",
      "Epoch 89/100\n",
      "51/51 - 0s - loss: 0.0224 - accuracy: 0.9936 - val_loss: 0.0381 - val_accuracy: 0.9881\n",
      "Epoch 90/100\n",
      "51/51 - 0s - loss: 0.0221 - accuracy: 0.9941 - val_loss: 0.0385 - val_accuracy: 0.9862\n",
      "Epoch 91/100\n",
      "51/51 - 0s - loss: 0.0222 - accuracy: 0.9936 - val_loss: 0.0393 - val_accuracy: 0.9842\n",
      "Epoch 92/100\n",
      "51/51 - 0s - loss: 0.0223 - accuracy: 0.9941 - val_loss: 0.0386 - val_accuracy: 0.9862\n",
      "Epoch 93/100\n",
      "51/51 - 0s - loss: 0.0221 - accuracy: 0.9946 - val_loss: 0.0385 - val_accuracy: 0.9881\n",
      "Epoch 94/100\n",
      "51/51 - 0s - loss: 0.0218 - accuracy: 0.9936 - val_loss: 0.0393 - val_accuracy: 0.9862\n",
      "Epoch 95/100\n",
      "51/51 - 0s - loss: 0.0217 - accuracy: 0.9946 - val_loss: 0.0399 - val_accuracy: 0.9842\n",
      "Epoch 96/100\n",
      "51/51 - 0s - loss: 0.0216 - accuracy: 0.9941 - val_loss: 0.0387 - val_accuracy: 0.9881\n",
      "Epoch 97/100\n",
      "51/51 - 0s - loss: 0.0217 - accuracy: 0.9936 - val_loss: 0.0392 - val_accuracy: 0.9842\n",
      "Epoch 98/100\n",
      "51/51 - 0s - loss: 0.0215 - accuracy: 0.9941 - val_loss: 0.0389 - val_accuracy: 0.9881\n",
      "Epoch 99/100\n",
      "51/51 - 0s - loss: 0.0219 - accuracy: 0.9946 - val_loss: 0.0386 - val_accuracy: 0.9862\n",
      "Epoch 100/100\n",
      "51/51 - 0s - loss: 0.0213 - accuracy: 0.9946 - val_loss: 0.0388 - val_accuracy: 0.9862\n"
     ]
    }
   ],
   "source": [
    "# Training the model\n",
    "result = model.fit(X_train, y_train, epochs=100, validation_split=0.2, batch_size=40,  verbose=2)"
   ]
  },
  {
   "cell_type": "markdown",
   "metadata": {},
   "source": [
    "### 6. Evaluating the model using accuracy and f1 score\n",
    "\n",
    "We will now evaluate the performance of our trained model on test data to find metrics such as Accuracy, F1-score, recall, and precision."
   ]
  },
  {
   "cell_type": "markdown",
   "metadata": {},
   "source": [
    "**Accuracy**"
   ]
  },
  {
   "cell_type": "code",
   "execution_count": 102,
   "metadata": {},
   "outputs": [
    {
     "name": "stdout",
     "output_type": "stream",
     "text": [
      "20/20 [==============================] - 0s 573us/step - loss: 0.0634 - accuracy: 0.9795\n",
      "loss: 6.34%\n",
      "accuracy: 97.95%\n"
     ]
    }
   ],
   "source": [
    "# Get the loss and accuracy of the model by evaluation\n",
    "loss, acc = model.evaluate(X_test, y_test)\n",
    "\n",
    "# Print the loss and accuracy score for the model\n",
    "print(\"%s: %.2f%%\" % (model.metrics_names[0], loss*100))\n",
    "print(\"%s: %.2f%%\" % (model.metrics_names[1], acc*100))"
   ]
  },
  {
   "cell_type": "markdown",
   "metadata": {},
   "source": [
    "We are getting a quite good accuracy of **98.42%** from our neural network model. However, our data is imbalanced and hence accuracy is not a good measure. Hence, we will be using a metric called F1-score"
   ]
  },
  {
   "cell_type": "markdown",
   "metadata": {},
   "source": [
    "**F1-score, Recall, Precision**"
   ]
  },
  {
   "cell_type": "code",
   "execution_count": 103,
   "metadata": {},
   "outputs": [],
   "source": [
    "# Predicting the output predictions\n",
    "y_pred = model.predict(X_test).round()"
   ]
  },
  {
   "cell_type": "code",
   "execution_count": 104,
   "metadata": {},
   "outputs": [
    {
     "name": "stdout",
     "output_type": "stream",
     "text": [
      "F1-score: 81.69%\n",
      "Recall: 78.38%\n",
      "Precision: 85.29%\n"
     ]
    }
   ],
   "source": [
    "# Calculating the F1 score, recall, and precision\n",
    "print(\"%s: %.2f%%\" % (\"F1-score\", f1_score(y_test, y_pred)*100))\n",
    "print(\"%s: %.2f%%\" % (\"Recall\", recall_score(y_test, y_pred)*100))\n",
    "print(\"%s: %.2f%%\" % (\"Precision\", precision_score(y_test, y_pred)*100))"
   ]
  },
  {
   "cell_type": "markdown",
   "metadata": {},
   "source": [
    "We are getting a quite good value of F1-score, recall and precision as well"
   ]
  },
  {
   "cell_type": "markdown",
   "metadata": {},
   "source": [
    "**Training and validation loss**"
   ]
  },
  {
   "cell_type": "code",
   "execution_count": 105,
   "metadata": {},
   "outputs": [
    {
     "data": {
      "image/png": "[encoded data removed]",
      "text/plain": [
       "<Figure size 432x288 with 1 Axes>"
      ]
     },
     "metadata": {
      "needs_background": "light"
     },
     "output_type": "display_data"
    }
   ],
   "source": [
    "# summarize the result and plot the training and test loss\n",
    "plt.plot(result.history['loss'])\n",
    "plt.plot(result.history['val_loss'])\n",
    "\n",
    "# Set the parameters\n",
    "plt.title('Deep learning model loss')\n",
    "plt.ylabel('Loss')\n",
    "plt.xlabel('Epochs')\n",
    "plt.legend(['train', 'test'], loc='upper right')\n",
    "\n",
    "# Display the plots\n",
    "plt.show()"
   ]
  },
  {
   "cell_type": "markdown",
   "metadata": {},
   "source": [
    "We can see that both the losses have converged at a very good rate."
   ]
  },
  {
   "cell_type": "markdown",
   "metadata": {},
   "source": [
    "### 7. Building the Random Forest Classifier"
   ]
  },
  {
   "cell_type": "code",
   "execution_count": 106,
   "metadata": {},
   "outputs": [],
   "source": [
    "from sklearn.ensemble import RandomForestClassifier\n",
    "rf_model= RandomForestClassifier(random_state=10)\n",
    "rf_model.fit(X_train,y_train)\n",
    "y_pred_rf= rf_model.predict(X_test)"
   ]
  },
  {
   "cell_type": "markdown",
   "metadata": {},
   "source": [
    "### 8. Evaluating the model using accuracy and f1 score"
   ]
  },
  {
   "cell_type": "code",
   "execution_count": 107,
   "metadata": {},
   "outputs": [
    {
     "data": {
      "text/plain": [
       "0.985781990521327"
      ]
     },
     "execution_count": 107,
     "metadata": {},
     "output_type": "execute_result"
    }
   ],
   "source": [
    "#view accuracy score\n",
    "from sklearn.metrics import accuracy_score\n",
    "accuracy_score(y_test,y_pred_rf)"
   ]
  },
  {
   "cell_type": "code",
   "execution_count": 108,
   "metadata": {},
   "outputs": [
    {
     "data": {
      "text/plain": [
       "0.8656716417910447"
      ]
     },
     "execution_count": 108,
     "metadata": {},
     "output_type": "execute_result"
    }
   ],
   "source": [
    "#view F1-score\n",
    "f1_rf= f1_score(y_test,y_pred_rf)\n",
    "f1_rf"
   ]
  },
  {
   "cell_type": "markdown",
   "metadata": {},
   "source": [
    "### 9. Building the decision tree Classifier"
   ]
  },
  {
   "cell_type": "code",
   "execution_count": 109,
   "metadata": {},
   "outputs": [],
   "source": [
    "from sklearn.tree import DecisionTreeClassifier \n",
    "dt_model= DecisionTreeClassifier(random_state=10)\n",
    "dt_model.fit(X_train,y_train)\n",
    "y_pred_dt= dt_model.predict(X_test)"
   ]
  },
  {
   "cell_type": "markdown",
   "metadata": {},
   "source": [
    "### 10. Evaluating the model using accuracy and f1 score"
   ]
  },
  {
   "cell_type": "code",
   "execution_count": 110,
   "metadata": {},
   "outputs": [
    {
     "data": {
      "text/plain": [
       "0.985781990521327"
      ]
     },
     "execution_count": 110,
     "metadata": {},
     "output_type": "execute_result"
    }
   ],
   "source": [
    "#view accuracy score\n",
    "accuracy_score(y_test,y_pred_dt)"
   ]
  },
  {
   "cell_type": "code",
   "execution_count": 111,
   "metadata": {},
   "outputs": [
    {
     "data": {
      "text/plain": [
       "0.8695652173913043"
      ]
     },
     "execution_count": 111,
     "metadata": {},
     "output_type": "execute_result"
    }
   ],
   "source": [
    "f1_dt= f1_score(y_test,y_pred_dt)\n",
    "f1_dt"
   ]
  },
  {
   "cell_type": "markdown",
   "metadata": {},
   "source": [
    "### 11. Model Tuning"
   ]
  },
  {
   "cell_type": "markdown",
   "metadata": {},
   "source": [
    "The best model based on the F1-score is decision tree . now , we will fine tune the cosen model use grid search with at least one important parameter tuned with atleast 3 diffrent values"
   ]
  },
  {
   "cell_type": "code",
   "execution_count": 112,
   "metadata": {},
   "outputs": [
    {
     "data": {
      "text/plain": [
       "GridSearchCV(cv=10, estimator=DecisionTreeClassifier(random_state=10),\n",
       "             n_jobs=-1,\n",
       "             param_grid={'criterion': ['gini', 'entropy'],\n",
       "                         'max_depth': [1, 2, 3, 4, 5, 6, 7, None]},\n",
       "             scoring='f1')"
      ]
     },
     "execution_count": 112,
     "metadata": {},
     "output_type": "execute_result"
    }
   ],
   "source": [
    "#import 'Grid search' and other metrics\n",
    "from sklearn.model_selection import GridSearchCV\n",
    "from sklearn.metrics import make_scorer, r2_score, fbeta_score\n",
    "\n",
    "#create parameters list\n",
    "parameters = {\n",
    "    \"criterion\":['gini','entropy'],\n",
    "    \"max_depth\":[1,2,3,4,5,6,7,None]\n",
    "}\n",
    "f1=make_scorer(f1_score)\n",
    "grid=GridSearchCV(dt_model, param_grid= parameters, cv=10, n_jobs=-1, scoring= \"f1\")\n",
    "\n",
    "grid.fit(X_train,y_train)\n"
   ]
  },
  {
   "cell_type": "code",
   "execution_count": 113,
   "metadata": {},
   "outputs": [
    {
     "data": {
      "text/plain": [
       "DecisionTreeClassifier(criterion='entropy', max_depth=3, random_state=10)"
      ]
     },
     "execution_count": 113,
     "metadata": {},
     "output_type": "execute_result"
    }
   ],
   "source": [
    "grid.best_estimator_"
   ]
  },
  {
   "cell_type": "code",
   "execution_count": 114,
   "metadata": {},
   "outputs": [],
   "source": [
    "best_pred=grid.predict(X_test)"
   ]
  },
  {
   "cell_type": "code",
   "execution_count": 115,
   "metadata": {},
   "outputs": [
    {
     "name": "stdout",
     "output_type": "stream",
     "text": [
      "Final accuracy score on the testing data: 0.9937\n"
     ]
    }
   ],
   "source": [
    "print(\"Final accuracy score on the testing data: {:.4f}\".format(accuracy_score(y_test, best_pred)))"
   ]
  },
  {
   "cell_type": "code",
   "execution_count": 116,
   "metadata": {},
   "outputs": [
    {
     "name": "stdout",
     "output_type": "stream",
     "text": [
      "Final F1-score on the testing data: 0.9444\n"
     ]
    }
   ],
   "source": [
    "print(\"Final F1-score on the testing data: {:.4f}\".format(f1_score(y_test, best_pred)))"
   ]
  },
  {
   "cell_type": "code",
   "execution_count": 117,
   "metadata": {},
   "outputs": [
    {
     "data": {
      "text/plain": [
       "0.919686950730429"
      ]
     },
     "execution_count": 117,
     "metadata": {},
     "output_type": "execute_result"
    }
   ],
   "source": [
    "#accuracy for cross validation\n",
    "grid.best_score_"
   ]
  }
 ],
 "metadata": {
  "kernelspec": {
   "display_name": "Python 3 (ipykernel)",
   "language": "python",
   "name": "python3"
  },
  "language_info": {
   "codemirror_mode": {
    "name": "ipython",
    "version": 3
   },
   "file_extension": ".py",
   "mimetype": "text/x-python",
   "name": "python",
   "nbconvert_exporter": "python",
   "pygments_lexer": "ipython3",
   "version": "3.8.5"
  }
 },
 "nbformat": 4,
 "nbformat_minor": 4
}
